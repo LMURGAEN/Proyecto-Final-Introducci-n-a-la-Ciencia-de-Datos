{
 "cells": [
  {
   "cell_type": "markdown",
   "metadata": {},
   "source": [
    "<center>\n",
    "    <img src=\"https://cf-courses-data.s3.us.cloud-object-storage.appdomain.cloud/IBMDeveloperSkillsNetwork-DS0105EN-SkillsNetwork/labs/Module2/images/SN_web_lightmode.png\" width=\"300\" alt=\"cognitiveclass.ai logo\">\n",
    "</center>\n"
   ]
  },
  {
   "cell_type": "markdown",
   "metadata": {},
   "source": [
    "#### Add your code below following the instructions given in the course\n"
   ]
  },
  {
   "cell_type": "code",
   "execution_count": null,
   "metadata": {},
   "outputs": [],
   "source": [
    "# Proyecto Final: Introducción a la Ciencia de Datos"
   ]
  },
  {
   "cell_type": "markdown",
   "metadata": {},
   "source": [
    "## Introducción\n",
    "La ciencia de datos combina programación, estadísticas y conocimiento de negocio para analizar datos y extraer valor de ellos.  \n",
    "En este cuaderno se presentarán ejemplos básicos utilizando Jupyterlite.\n"
   ]
  },
  {
   "cell_type": "markdown",
   "metadata": {},
   "source": [
    "## Lenguajes de la Ciencia de Datos\n",
    "- Python  \n",
    "- R  \n",
    "- SQL  \n",
    "- Julia  \n",
    "- Scala\n"
   ]
  },
  {
   "cell_type": "code",
   "execution_count": null,
   "metadata": {},
   "outputs": [],
   "source": [
    "## Bibliotecas de Ciencia de Datos\n",
    "- Panda\n",
    "- NumPy\n",
    "- Matplotlib  \n",
    "- Seaborn  \n",
    "- Scikit-learn  \n",
    "- TensorFlow  \n",
    "- PyTorch\n"
   ]
  },
  {
   "cell_type": "markdown",
   "metadata": {},
   "source": [
    "## Herramientas de Ciencia de Datos\n",
    "\n",
    "| Herramienta       | Descripción                                   |\n",
    "|-------------------|-----------------------------------------------|\n",
    "| Jupyter Notebook  | Entorno interactivo para análisis de datos     |\n",
    "| RStudio           | IDE para análisis estadístico con R            |\n",
    "| GitHub            | Control de versiones y colaboración           |\n",
    "| Apache Spark      | Procesamiento de grandes volúmenes de datos    |\n",
    "| Tableau           | Visualización de datos                        |\n"
   ]
  },
  {
   "cell_type": "markdown",
   "metadata": {},
   "source": [
    "## Ejemplos de Expresiones Aritméticas\n",
    "- Suma: 5 + 3 = 8  \n",
    "- Resta: 10 - 4 = 6  \n",
    "- Multiplicación: 7 * 2 = 14  \n",
    "- División: 20 / 5 = 4  \n"
   ]
  },
  {
   "cell_type": "code",
   "execution_count": null,
   "metadata": {},
   "outputs": [],
   "source": [
    "# Ejercicio 8\n",
    "a = 5\n",
    "b = 3\n",
    "suma = a + b\n",
    "multiplicacion = a * b\n",
    "\n",
    "print(\"Suma:\", suma)\n",
    "print(\"Multiplicación:\", multiplicacion)\n"
   ]
  },
  {
   "cell_type": "code",
   "execution_count": null,
   "metadata": {},
   "outputs": [],
   "source": [
    "# Ejercicio 9\n",
    "minutos = 120\n",
    "horas = minutos / 60\n",
    "print(f\"{minutos} minutos equivalen a {horas} horas\")\n"
   ]
  },
  {
   "cell_type": "code",
   "execution_count": null,
   "metadata": {},
   "outputs": [],
   "source": [
    "# Ejercicio 10\n",
    "objetivos = [\n",
    "    \"Aprender fundamentos de ciencia de datos\",\n",
    "    \"Conocer herramientas y bibliotecas\",\n",
    "    \"Practicar con Jupyterlite\",\n",
    "    \"Compartir resultados en GitHub\"\n",
    "]\n",
    "\n",
    "for i, objetivo in enumerate(objetivos, 1):\n",
    "    print(f\"{i}. {objetivo}\")\n"
   ]
  },
  {
   "cell_type": "markdown",
   "metadata": {},
   "source": [
    "**Autor:** Luis Murga\n"
   ]
  }
 ],
 "metadata": {
  "kernelspec": {
   "display_name": "Python 3 (ipykernel)",
   "language": "python",
   "name": "python3"
  },
  "language_info": {
   "codemirror_mode": {
    "name": "ipython",
    "version": 3
   },
   "file_extension": ".py",
   "mimetype": "text/x-python",
   "name": "python",
   "nbconvert_exporter": "python",
   "pygments_lexer": "ipython3",
   "version": "3.12.8"
  }
 },
 "nbformat": 4,
 "nbformat_minor": 4
}
